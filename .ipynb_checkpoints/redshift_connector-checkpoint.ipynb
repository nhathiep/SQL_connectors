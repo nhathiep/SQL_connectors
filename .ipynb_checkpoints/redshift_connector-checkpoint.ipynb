{
 "cells": [
  {
   "cell_type": "markdown",
   "id": "019df1f7",
   "metadata": {},
   "source": [
    "# Amazon Redshift"
   ]
  },
  {
   "cell_type": "markdown",
   "id": "e00bb0ff",
   "metadata": {},
   "source": [
    "Redshift connector: https://docs.aws.amazon.com/redshift/latest/mgmt/python-connect-examples.html  \n",
    "Integrating connector with pandas: https://docs.aws.amazon.com/redshift/latest/mgmt/python-connect-integrate-pandas.html\n",
    "SQL in Python: https://datatofish.com/sql-to-pandas-dataframe/"
   ]
  },
  {
   "cell_type": "markdown",
   "id": "3ef408e3",
   "metadata": {},
   "source": [
    "**Install Redshift connector module.** In this case: \n",
    "> ! conda install redshift_connector"
   ]
  },
  {
   "cell_type": "code",
   "execution_count": null,
   "id": "7d92d501",
   "metadata": {},
   "outputs": [],
   "source": [
    "conn = redshift_connector.connect(\n",
    "     host='examplecluster.abc123xyz789.us-west-1.redshift.amazonaws.com', #to be replaced\n",
    "     database='dev',  #to be replaced\n",
    "     user='awsuser',  #to be replaced\n",
    "     password='my_password'  #to be replaced\n",
    "  )\n",
    "cursor = conn.cursor()\n",
    "data = cursor.execute(\"select * from book\")  #amend query\n",
    "\n",
    "df = data.fetch_dataframe()\n",
    "#df = pd.Dataframe(data.fetch_dataframe())\n",
    "df.head()"
   ]
  }
 ],
 "metadata": {
  "kernelspec": {
   "display_name": "Python 3 (ipykernel)",
   "language": "python",
   "name": "python3"
  },
  "language_info": {
   "codemirror_mode": {
    "name": "ipython",
    "version": 3
   },
   "file_extension": ".py",
   "mimetype": "text/x-python",
   "name": "python",
   "nbconvert_exporter": "python",
   "pygments_lexer": "ipython3",
   "version": "3.9.7"
  }
 },
 "nbformat": 4,
 "nbformat_minor": 5
}
