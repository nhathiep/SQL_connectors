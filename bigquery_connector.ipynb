{
 "cells": [
  {
   "cell_type": "markdown",
   "id": "3b95de94",
   "metadata": {},
   "source": [
    "# Google BigQuery\n",
    "Github: https://github.com/googleapis/python-bigquery  \n",
    "Pandas & Biquery: https://cloud.google.com/bigquery/docs/bigquery-storage-python-pandas#pip  \n",
    "Sandbox: https://cloud.google.com/bigquery/docs/samples/bigquery-pandas-public-data-sandbox?hl=en  \n",
    "TD blog: https://towardsdatascience.com/3-ways-to-query-bigquery-in-python-66838f45cb43  \n",
    "LI blog: https://www.linkedin.com/pulse/how-import-your-google-bigquery-data-python-julian-beukers/"
   ]
  },
  {
   "cell_type": "markdown",
   "id": "32fc2eca",
   "metadata": {},
   "source": [
    "##### 0. Set up a project and retrieve credential file: step 1) to 4) of below page\n",
    "https://cloud.google.com/bigquery/docs/quickstarts/quickstart-client-libraries#client-libraries-install-python"
   ]
  },
  {
   "cell_type": "markdown",
   "id": "4695d6ec",
   "metadata": {},
   "source": [
    "##### 1. Install cloud sdk (gcloud, gsutil and bq)\n",
    "Installation: https://cloud.google.com/sdk/docs/install - *note: no need to go through 2) b) (optional)*  \n",
    "Gcloud next steps & tutorial: https://cloud.google.com/sdk/auth_success"
   ]
  },
  {
   "cell_type": "markdown",
   "id": "eea1dbb7",
   "metadata": {},
   "source": [
    "##### 2. Set an environment variable\n",
    "Write the following in powershell/terminal/command line\n",
    "> export GOOGLE_APPLICATION_CREDENTIALS=**\"KEY_PATH\"** ; meaning:  \n",
    "> export GOOGLE_APPLICATION_CREDENTIALS= \"/Users/nhathiep/Python_Projects/SQL connectors/proud-outrider-337507-319bec3fd79c.json\"\n",
    "\n",
    "https://cloud.google.com/docs/authentication/getting-started#auth-cloud-implicit-python"
   ]
  },
  {
   "cell_type": "code",
   "execution_count": 10,
   "id": "5d5d3221",
   "metadata": {},
   "outputs": [
    {
     "data": {
      "text/plain": [
       "'/Users/nhathiep/Python_Projects/SQL connectors/proud-outrider-337507-319bec3fd79c.json'"
      ]
     },
     "execution_count": 10,
     "metadata": {},
     "output_type": "execute_result"
    }
   ],
   "source": [
    "import os\n",
    "os.path.join(os.getcwd(),'proud-outrider-337507-319bec3fd79c.json')"
   ]
  },
  {
   "cell_type": "markdown",
   "id": "8dd19b3e",
   "metadata": {},
   "source": [
    "#### installation for anaconda: \n",
    "https://cloud.google.com/bigquery/docs/bigquery-storage-python-pandas#pip  \n",
    ">! conda install -c conda-forge google-cloud-bigquery #https://anaconda.org/conda-forge/google-cloud-bigquery  \n",
    ">! conda install -c conda-forge google-cloud-bigquery-storage  \n",
    ">! conda install pyasn1-modules  \n",
    ">! conda install grpcio  \n",
    ">! conda install pyarrow  \n",
    "\n",
    "OR \n",
    ">! pip google-cloud-storage  \n",
    ">! pip google-cloud-bigquery  \n",
    ">! pip google-cloud-bigquery-storage  \n",
    "\n",
    "Maybe `! conda/pip install google-cloud-storage (TBD)`"
   ]
  },
  {
   "cell_type": "code",
   "execution_count": 1,
   "id": "d689f59f",
   "metadata": {},
   "outputs": [],
   "source": [
    "import json\n",
    "credfile = json.load(open('proud-outrider-337507-319bec3fd79c.json'))"
   ]
  },
  {
   "cell_type": "markdown",
   "id": "3961d449",
   "metadata": {},
   "source": [
    "from google.oauth2 import service_account\n",
    "credentials = service_account.Credentials.from_service_account_file('proud-outrider-337507-319bec3fd79c.json')\n",
    "credentials"
   ]
  },
  {
   "cell_type": "code",
   "execution_count": 15,
   "id": "c20137c1",
   "metadata": {},
   "outputs": [
    {
     "name": "stdout",
     "output_type": "stream",
     "text": [
      "       name\n",
      "0   Frances\n",
      "1     Alice\n",
      "2  Beatrice\n",
      "3      Ella\n",
      "4  Gertrude\n"
     ]
    }
   ],
   "source": [
    "#Authenticate\n",
    "from google.oauth2 import service_account\n",
    "credentials = service_account.Credentials.from_service_account_file('proud-outrider-337507-319bec3fd79c.json')\n",
    "\n",
    "from google.cloud import bigquery\n",
    "client = bigquery.Client(credentials=credentials) #credentials=credentials to pass on credentials\n",
    "\n",
    "# Perform a query.\n",
    "QUERY = (\n",
    "    'SELECT name FROM `bigquery-public-data.usa_names.usa_1910_2013` '\n",
    "    'WHERE state = \"TX\" '\n",
    "    'LIMIT 10')\n",
    "query_job = client.query(QUERY)  # API request\n",
    "#rows = query_job.result()  # Waits for query to finish\n",
    "\n",
    "#for row in rows:\n",
    "#    print(row.name)\n",
    "\n",
    "dataframe = (\n",
    "    query_job\n",
    "    .result()\n",
    "    .to_dataframe(\n",
    "        # Optionally, explicitly request to use the BigQuery Storage API. As of\n",
    "        # google-cloud-bigquery version 1.26.0 and above, the BigQuery Storage\n",
    "        # API is used by default.\n",
    "        create_bqstorage_client=True,\n",
    "    )\n",
    ")\n",
    "print(dataframe.head())"
   ]
  },
  {
   "cell_type": "code",
   "execution_count": 16,
   "id": "773ffa00",
   "metadata": {},
   "outputs": [
    {
     "data": {
      "text/html": [
       "<div>\n",
       "<style scoped>\n",
       "    .dataframe tbody tr th:only-of-type {\n",
       "        vertical-align: middle;\n",
       "    }\n",
       "\n",
       "    .dataframe tbody tr th {\n",
       "        vertical-align: top;\n",
       "    }\n",
       "\n",
       "    .dataframe thead th {\n",
       "        text-align: right;\n",
       "    }\n",
       "</style>\n",
       "<table border=\"1\" class=\"dataframe\">\n",
       "  <thead>\n",
       "    <tr style=\"text-align: right;\">\n",
       "      <th></th>\n",
       "      <th>name</th>\n",
       "    </tr>\n",
       "  </thead>\n",
       "  <tbody>\n",
       "    <tr>\n",
       "      <th>0</th>\n",
       "      <td>Frances</td>\n",
       "    </tr>\n",
       "    <tr>\n",
       "      <th>1</th>\n",
       "      <td>Alice</td>\n",
       "    </tr>\n",
       "    <tr>\n",
       "      <th>2</th>\n",
       "      <td>Beatrice</td>\n",
       "    </tr>\n",
       "    <tr>\n",
       "      <th>3</th>\n",
       "      <td>Ella</td>\n",
       "    </tr>\n",
       "    <tr>\n",
       "      <th>4</th>\n",
       "      <td>Gertrude</td>\n",
       "    </tr>\n",
       "  </tbody>\n",
       "</table>\n",
       "</div>"
      ],
      "text/plain": [
       "       name\n",
       "0   Frances\n",
       "1     Alice\n",
       "2  Beatrice\n",
       "3      Ella\n",
       "4  Gertrude"
      ]
     },
     "execution_count": 16,
     "metadata": {},
     "output_type": "execute_result"
    }
   ],
   "source": [
    "dataframe.head()"
   ]
  }
 ],
 "metadata": {
  "kernelspec": {
   "display_name": "Python 3 (ipykernel)",
   "language": "python",
   "name": "python3"
  },
  "language_info": {
   "codemirror_mode": {
    "name": "ipython",
    "version": 3
   },
   "file_extension": ".py",
   "mimetype": "text/x-python",
   "name": "python",
   "nbconvert_exporter": "python",
   "pygments_lexer": "ipython3",
   "version": "3.9.7"
  }
 },
 "nbformat": 4,
 "nbformat_minor": 5
}
